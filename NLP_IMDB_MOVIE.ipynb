{
 "cells": [
  {
   "cell_type": "code",
   "execution_count": 251,
   "id": "4a7c8f17",
   "metadata": {},
   "outputs": [],
   "source": [
    "import pandas as pd\n",
    "import numpy as np\n",
    "import re\n",
    "import nltk\n",
    "import seaborn as sns\n",
    "import matplotlib.pyplot as plt\n",
    "import string\n",
    "import warnings \n",
    "warnings.filterwarnings('ignore')\n",
    "\n",
    "from nltk.tokenize import word_tokenize,TweetTokenizer"
   ]
  },
  {
   "cell_type": "code",
   "execution_count": 301,
   "id": "50dbccaa",
   "metadata": {},
   "outputs": [],
   "source": [
    "!pip install wordcloud"
   ]
  },
  {
   "cell_type": "code",
   "execution_count": 302,
   "id": "7a3462ec",
   "metadata": {},
   "outputs": [],
   "source": [
    "!pip install Pillow"
   ]
  },
  {
   "cell_type": "code",
   "execution_count": 303,
   "id": "7aeabaab",
   "metadata": {},
   "outputs": [
    {
     "ename": "ModuleNotFoundError",
     "evalue": "No module named 'wordcloud'",
     "output_type": "error",
     "traceback": [
      "\u001b[1;31m---------------------------------------------------------------------------\u001b[0m",
      "\u001b[1;31mModuleNotFoundError\u001b[0m                       Traceback (most recent call last)",
      "Input \u001b[1;32mIn [303]\u001b[0m, in \u001b[0;36m<cell line: 1>\u001b[1;34m()\u001b[0m\n\u001b[1;32m----> 1\u001b[0m \u001b[38;5;28;01mfrom\u001b[39;00m \u001b[38;5;21;01mwordcloud\u001b[39;00m \u001b[38;5;28;01mimport\u001b[39;00m WordCloud,STOPWORDS\n",
      "\u001b[1;31mModuleNotFoundError\u001b[0m: No module named 'wordcloud'"
     ]
    }
   ],
   "source": [
    "from wordcloud import WordCloud,STOPWORDS"
   ]
  },
  {
   "cell_type": "code",
   "execution_count": 102,
   "id": "8059f8d2",
   "metadata": {},
   "outputs": [],
   "source": [
    "data = pd.read_csv(\"D:\\\\COMPI-TOP\\\\IMDB_DATASET_NLP\\\\IMDB Dataset.csv\")"
   ]
  },
  {
   "cell_type": "code",
   "execution_count": 103,
   "id": "a876ed96",
   "metadata": {},
   "outputs": [
    {
     "data": {
      "text/html": [
       "<div>\n",
       "<style scoped>\n",
       "    .dataframe tbody tr th:only-of-type {\n",
       "        vertical-align: middle;\n",
       "    }\n",
       "\n",
       "    .dataframe tbody tr th {\n",
       "        vertical-align: top;\n",
       "    }\n",
       "\n",
       "    .dataframe thead th {\n",
       "        text-align: right;\n",
       "    }\n",
       "</style>\n",
       "<table border=\"1\" class=\"dataframe\">\n",
       "  <thead>\n",
       "    <tr style=\"text-align: right;\">\n",
       "      <th></th>\n",
       "      <th>review</th>\n",
       "      <th>sentiment</th>\n",
       "    </tr>\n",
       "  </thead>\n",
       "  <tbody>\n",
       "    <tr>\n",
       "      <th>0</th>\n",
       "      <td>One of the other reviewers has mentioned that ...</td>\n",
       "      <td>positive</td>\n",
       "    </tr>\n",
       "    <tr>\n",
       "      <th>1</th>\n",
       "      <td>A wonderful little production. &lt;br /&gt;&lt;br /&gt;The...</td>\n",
       "      <td>positive</td>\n",
       "    </tr>\n",
       "    <tr>\n",
       "      <th>2</th>\n",
       "      <td>I thought this was a wonderful way to spend ti...</td>\n",
       "      <td>positive</td>\n",
       "    </tr>\n",
       "    <tr>\n",
       "      <th>3</th>\n",
       "      <td>Basically there's a family where a little boy ...</td>\n",
       "      <td>negative</td>\n",
       "    </tr>\n",
       "    <tr>\n",
       "      <th>4</th>\n",
       "      <td>Petter Mattei's \"Love in the Time of Money\" is...</td>\n",
       "      <td>positive</td>\n",
       "    </tr>\n",
       "  </tbody>\n",
       "</table>\n",
       "</div>"
      ],
      "text/plain": [
       "                                              review sentiment\n",
       "0  One of the other reviewers has mentioned that ...  positive\n",
       "1  A wonderful little production. <br /><br />The...  positive\n",
       "2  I thought this was a wonderful way to spend ti...  positive\n",
       "3  Basically there's a family where a little boy ...  negative\n",
       "4  Petter Mattei's \"Love in the Time of Money\" is...  positive"
      ]
     },
     "execution_count": 103,
     "metadata": {},
     "output_type": "execute_result"
    }
   ],
   "source": [
    "data.head()"
   ]
  },
  {
   "cell_type": "markdown",
   "id": "93c57b2c",
   "metadata": {},
   "source": [
    "## *Pre-processing*"
   ]
  },
  {
   "cell_type": "markdown",
   "id": "b7e6916c",
   "metadata": {},
   "source": [
    "Checking if dataset is balanced or not"
   ]
  },
  {
   "cell_type": "code",
   "execution_count": 104,
   "id": "4e574409",
   "metadata": {
    "scrolled": true
   },
   "outputs": [
    {
     "data": {
      "text/plain": [
       "<AxesSubplot:>"
      ]
     },
     "execution_count": 104,
     "metadata": {},
     "output_type": "execute_result"
    },
    {
     "data": {
      "image/png": "[encoded data removed]",
      "text/plain": [
       "<Figure size 432x288 with 1 Axes>"
      ]
     },
     "metadata": {
      "needs_background": "light"
     },
     "output_type": "display_data"
    }
   ],
   "source": [
    "data['sentiment'].value_counts().plot(kind='bar', color='orange')"
   ]
  },
  {
   "cell_type": "markdown",
   "id": "f5580d52",
   "metadata": {},
   "source": [
    "Classes are equal"
   ]
  },
  {
   "cell_type": "code",
   "execution_count": 105,
   "id": "2c47701c",
   "metadata": {},
   "outputs": [
    {
     "data": {
      "text/plain": [
       "\"One of the other reviewers has mentioned that after watching just 1 Oz episode you'll be hooked. They are right, as this is exactly what happened with me.<br /><br />The first thing that struck me about Oz was its brutality and unflinching scenes of violence, which set in right from the word GO. Trust me, this is not a show for the faint hearted or timid. This show pulls no punches with regards to drugs, sex or violence. Its is hardcore, in the classic use of the word.<br /><br />It is called OZ as that is the nickname given to the Oswald Maximum Security State Penitentary. It focuses mainly on Emerald City, an experimental section of the prison where all the cells have glass fronts and face inwards, so privacy is not high on the agenda. Em City is home to many..Aryans, Muslims, gangstas, Latinos, Christians, Italians, Irish and more....so scuffles, death stares, dodgy dealings and shady agreements are never far away.<br /><br />I would say the main appeal of the show is due to the fact that it goes where other shows wouldn't dare. Forget pretty pictures painted for mainstream audiences, forget charm, forget romance...OZ doesn't mess around. The first episode I ever saw struck me as so nasty it was surreal, I couldn't say I was ready for it, but as I watched more, I developed a taste for Oz, and got accustomed to the high levels of graphic violence. Not just violence, but injustice (crooked guards who'll be sold out for a nickel, inmates who'll kill on order and get away with it, well mannered, middle class inmates being turned into prison bitches due to their lack of street skills or prison experience) Watching Oz, you may become comfortable with what is uncomfortable viewing....thats if you can get in touch with your darker side.\""
      ]
     },
     "execution_count": 105,
     "metadata": {},
     "output_type": "execute_result"
    }
   ],
   "source": [
    "data.review[0]"
   ]
  },
  {
   "cell_type": "code",
   "execution_count": 106,
   "id": "8ab1c4dc",
   "metadata": {},
   "outputs": [],
   "source": [
    "from nltk.stem import WordNetLemmatizer\n",
    "from nltk.corpus import stopwords\n",
    "lemmatizeer = WordNetLemmatizer()"
   ]
  },
  {
   "cell_type": "markdown",
   "id": "cec98365",
   "metadata": {},
   "source": [
    "Here we can't use the inbuilt stop words as it will remove the negative sentiments, so we have to create custom stopword"
   ]
  },
  {
   "cell_type": "code",
   "execution_count": 107,
   "id": "b4e7d7a7",
   "metadata": {},
   "outputs": [],
   "source": [
    "stopwords = stopwords.words('english')\n",
    "punctuation = string.punctuation\n",
    "engstopwords = set(stopwords)\n",
    "APPO = {\n",
    "\"aren't\" : \"are not\",\n",
    "\"can't\" : \"cannot\",\n",
    "\"couldn't\" : \"could not\",\n",
    "\"didn't\" : \"did not\",\n",
    "\"doesn't\" : \"does not\",\n",
    "\"don't\" : \"do not\",\n",
    "\"hadn't\" : \"had not\",\n",
    "\"hasn't\" : \"has not\",\n",
    "\"haven't\" : \"have not\",\n",
    "\"he'd\" : \"he would\",\n",
    "\"he'll\" : \"he will\",\n",
    "\"he's\" : \"he is\",\n",
    "\"i'd\" : \"I would\",\n",
    "\"i'd\" : \"I had\",\n",
    "\"i'll\" : \"I will\",\n",
    "\"i'm\" : \"I am\",\n",
    "\"isn't\" : \"is not\",\n",
    "\"it's\" : \"it is\",\n",
    "\"it'll\":\"it will\",\n",
    "\"i've\" : \"I have\",\n",
    "\"let's\" : \"let us\",\n",
    "\"mightn't\" : \"might not\",\n",
    "\"mustn't\" : \"must not\",\n",
    "\"shan't\" : \"shall not\",\n",
    "\"she'd\" : \"she would\",\n",
    "\"she'll\" : \"she will\",\n",
    "\"she's\" : \"she is\",\n",
    "\"shouldn't\" : \"should not\",\n",
    "\"that's\" : \"that is\",\n",
    "\"there's\" : \"there is\",\n",
    "\"they'd\" : \"they would\",\n",
    "\"they'll\" : \"they will\",\n",
    "\"they're\" : \"they are\",\n",
    "\"they've\" : \"they have\",\n",
    "\"we'd\" : \"we would\",\n",
    "\"we're\" : \"we are\",\n",
    "\"we'll\" : \"we will\"   ,\n",
    "\"weren't\" : \"were not\",\n",
    "\"we've\" : \"we have\",\n",
    "\"what'll\" : \"what will\",\n",
    "\"what're\" : \"what are\",\n",
    "\"what's\" : \"what is\",\n",
    "\"what've\" : \"what have\",\n",
    "\"where's\" : \"where is\",\n",
    "\"who'd\" : \"who would\",\n",
    "\"who'll\" : \"who will\",\n",
    "\"who're\" : \"who are\",\n",
    "\"who's\" : \"who is\",\n",
    "\"who've\" : \"who have\",\n",
    "\"won't\" : \"will not\",\n",
    "\"wouldn't\" : \"would not\",\n",
    "\"you'd\" : \"you would\",\n",
    "\"you'll\" : \"you will\",\n",
    "\"you're\" : \"you are\",\n",
    "\"you've\" : \"you have\",\n",
    "\"'re\": \" are\",\n",
    "\"wasn't\": \"was not\",\n",
    "\"we'll\":\" will\",\n",
    "\"didn't\": \"did not\",\n",
    "\"tryin'\":\"trying\"\n",
    "}"
   ]
  },
  {
   "cell_type": "code",
   "execution_count": 170,
   "id": "ebc9535f",
   "metadata": {},
   "outputs": [],
   "source": [
    "# as we need the negative comments we cant use the inbuilt stopwords\n",
    "stopwords = pd.read_csv('D:\\\\COMPI-TOP\\\\IMDB_DATASET_NLP\\\\StopwordsTxt.txt', sep='\\t',\n",
    "                           names=[\"words\"])\n",
    "stopwords = list(stopwords.words)\n",
    "stopwords.append('i')"
   ]
  },
  {
   "cell_type": "code",
   "execution_count": 171,
   "id": "db63403f",
   "metadata": {},
   "outputs": [],
   "source": [
    "#We are using TweetTokenizer as it keeps hashtags intact, for us it may be important \n",
    "tokenizer = TweetTokenizer()"
   ]
  },
  {
   "cell_type": "code",
   "execution_count": 174,
   "id": "f9d66a2e",
   "metadata": {},
   "outputs": [],
   "source": [
    "corpus = []\n",
    "for i in range(len(data)):\n",
    "    \n",
    "    #Data cleaning\n",
    "    reviews = data.review[i]\n",
    "    reviews = reviews.lower()\n",
    "    \n",
    "    #remove email id\n",
    "    re_email = re.compile(r'[\\w.-]+@[\\w.-]+')\n",
    "    reviews = re_email.sub(r'',reviews)\n",
    "    \n",
    "    #remove website links\n",
    "    reg_website = re.compile(r'https?:\\/\\/(www\\.)?[-a-zA-Z0-9@:%._\\+~#=]{1,256}\\.[a-zA-Z0-9()]{1,6}\\b([\\w+-a-zA-Z0-9()@:%_\\+.~#?&//=]*)')\n",
    "    reviews = reg_website.sub(r'',reviews)\n",
    "    \n",
    "    #removing special char\n",
    "    reviews = re.sub('[^a-zA-Z]', ' ', reviews)\n",
    "    \n",
    "    words = tokenizer.tokenize(reviews)\n",
    "    words = [APPO[word] if word in APPO else word for word in words]\n",
    "    clean_data = [word for word in words if word not in punctuation]\n",
    "    clean_data = [word for word in clean_data if not word in stopwords]\n",
    "    cleaned_data =  \" \".join(clean_data)\n",
    "    corpus.append(cleaned_data)"
   ]
  },
  {
   "cell_type": "code",
   "execution_count": 175,
   "id": "368c5d78",
   "metadata": {},
   "outputs": [
    {
     "data": {
      "text/plain": [
       "'reviewers mentioned watching oz episode ll hooked exactly happened br br struck oz its brutality unflinching scenes violence trust faint hearted timid pulls punches regards drugs sex violence its hardcore classic br br called oz nickname given oswald maximum security penitentary focuses mainly emerald experimental prison cells fronts inwards privacy agenda em aryans muslims gangstas latinos christians italians irish scuffles stares dodgy dealings shady agreements away br br appeal due goes shows wouldn t dare forget pictures painted mainstream audiences forget charm forget romance oz doesn t mess around episode struck nasty surreal couldn t watched developed taste oz accustomed levels graphic violence violence injustice crooked guards ll sold nickel inmates ll away mannered inmates being turned into prison bitches due lack skills prison watching oz become comfortable uncomfortable viewing thats darker'"
      ]
     },
     "execution_count": 175,
     "metadata": {},
     "output_type": "execute_result"
    }
   ],
   "source": [
    "corpus[0]"
   ]
  },
  {
   "cell_type": "markdown",
   "id": "1e9ceb93",
   "metadata": {},
   "source": [
    "## Using Bag of Words & TFIDF & Multinomial Naive Bayes"
   ]
  },
  {
   "cell_type": "code",
   "execution_count": 195,
   "id": "553c74bf",
   "metadata": {},
   "outputs": [],
   "source": [
    "#splitting into train and test\n",
    "train, test= train_test_split(data, test_size=0.2, random_state=42)\n",
    "Xtrain, ytrain = train['review'], train['sentiment']\n",
    "Xtest, ytest = test['review'], test['sentiment']"
   ]
  },
  {
   "cell_type": "code",
   "execution_count": 217,
   "id": "0d04b626",
   "metadata": {},
   "outputs": [],
   "source": [
    "from sklearn.feature_extraction.text import CountVectorizer\n",
    "from sklearn.feature_extraction.text import TfidfVectorizer\n",
    "\n",
    "cv = CountVectorizer(max_features=2500, binary=True, ngram_range = (2,2))\n",
    "\n",
    "tv = TfidfVectorizer(max_features=2500, ngram_range=(1,3))"
   ]
  },
  {
   "cell_type": "code",
   "execution_count": 218,
   "id": "d301fe6d",
   "metadata": {},
   "outputs": [],
   "source": [
    "#Bow-Cv\n",
    "Xtrain_count = cv.fit_transform(Xtrain)\n",
    "Xtest_count = cv.transform(Xtest)\n",
    "\n",
    "#tfidf\n",
    "Xtrain_tfidf = tv.fit_transform(Xtrain)\n",
    "Xtest_tfidf = tv.transform(Xtest)"
   ]
  },
  {
   "cell_type": "code",
   "execution_count": 199,
   "id": "a1db1161",
   "metadata": {},
   "outputs": [
    {
     "data": {
      "text/plain": [
       "(40000, 2500)"
      ]
     },
     "execution_count": 199,
     "metadata": {},
     "output_type": "execute_result"
    }
   ],
   "source": [
    "Xtrain_count.shape"
   ]
  },
  {
   "cell_type": "markdown",
   "id": "8123124e",
   "metadata": {},
   "source": [
    "####  *Bag of Words*"
   ]
  },
  {
   "cell_type": "code",
   "execution_count": 219,
   "id": "82a31d04",
   "metadata": {},
   "outputs": [],
   "source": [
    "from sklearn.naive_bayes import MultinomialNB\n",
    "model = MultinomialNB().fit(Xtrain_count, ytrain)"
   ]
  },
  {
   "cell_type": "code",
   "execution_count": 220,
   "id": "b47a5f01",
   "metadata": {},
   "outputs": [],
   "source": [
    "y_pred = model.predict(Xtest_count)"
   ]
  },
  {
   "cell_type": "code",
   "execution_count": 221,
   "id": "339eb400",
   "metadata": {},
   "outputs": [
    {
     "name": "stdout",
     "output_type": "stream",
     "text": [
      "0.8246\n"
     ]
    }
   ],
   "source": [
    "from sklearn.metrics import accuracy_score, classification_report, roc_auc_score, confusion_matrix\n",
    "score = accuracy_score(ytest, y_pred)\n",
    "print(score)"
   ]
  },
  {
   "cell_type": "code",
   "execution_count": 222,
   "id": "1df45265",
   "metadata": {},
   "outputs": [
    {
     "name": "stdout",
     "output_type": "stream",
     "text": [
      "              precision    recall  f1-score   support\n",
      "\n",
      "    negative       0.81      0.83      0.82      4831\n",
      "    positive       0.84      0.82      0.83      5169\n",
      "\n",
      "    accuracy                           0.82     10000\n",
      "   macro avg       0.82      0.82      0.82     10000\n",
      "weighted avg       0.82      0.82      0.82     10000\n",
      "\n"
     ]
    }
   ],
   "source": [
    "from sklearn.metrics import classification_report\n",
    "print(classification_report(y_pred, ytest))"
   ]
  },
  {
   "cell_type": "code",
   "execution_count": 223,
   "id": "2a5a4c4b",
   "metadata": {},
   "outputs": [
    {
     "data": {
      "text/plain": [
       "array([[4019,  942],\n",
       "       [ 812, 4227]], dtype=int64)"
      ]
     },
     "execution_count": 223,
     "metadata": {},
     "output_type": "execute_result"
    }
   ],
   "source": [
    "confusion_matrix(ytest, y_pred)"
   ]
  },
  {
   "cell_type": "markdown",
   "id": "7e497b43",
   "metadata": {},
   "source": [
    "#### *Tf-idf*"
   ]
  },
  {
   "cell_type": "code",
   "execution_count": 224,
   "id": "c70028f5",
   "metadata": {},
   "outputs": [],
   "source": [
    "model_2 = MultinomialNB().fit(Xtrain_tfidf, ytrain)"
   ]
  },
  {
   "cell_type": "code",
   "execution_count": 225,
   "id": "23b9ec12",
   "metadata": {},
   "outputs": [],
   "source": [
    "y_pred = model_2.predict(Xtest_tfidf)"
   ]
  },
  {
   "cell_type": "code",
   "execution_count": 226,
   "id": "64678b23",
   "metadata": {},
   "outputs": [
    {
     "name": "stdout",
     "output_type": "stream",
     "text": [
      "0.8472\n"
     ]
    }
   ],
   "source": [
    "score = accuracy_score(ytest, y_pred)\n",
    "print(score)"
   ]
  },
  {
   "cell_type": "code",
   "execution_count": 227,
   "id": "9a345e5c",
   "metadata": {},
   "outputs": [
    {
     "name": "stdout",
     "output_type": "stream",
     "text": [
      "              precision    recall  f1-score   support\n",
      "\n",
      "    negative       0.84      0.85      0.84      4889\n",
      "    positive       0.86      0.84      0.85      5111\n",
      "\n",
      "    accuracy                           0.85     10000\n",
      "   macro avg       0.85      0.85      0.85     10000\n",
      "weighted avg       0.85      0.85      0.85     10000\n",
      "\n"
     ]
    }
   ],
   "source": [
    "from sklearn.metrics import classification_report\n",
    "print(classification_report(y_pred, ytest))"
   ]
  },
  {
   "cell_type": "code",
   "execution_count": 228,
   "id": "db8d6ea9",
   "metadata": {},
   "outputs": [
    {
     "data": {
      "text/plain": [
       "array([[4161,  800],\n",
       "       [ 728, 4311]], dtype=int64)"
      ]
     },
     "execution_count": 228,
     "metadata": {},
     "output_type": "execute_result"
    }
   ],
   "source": [
    "confusion_matrix(ytest, y_pred)"
   ]
  },
  {
   "cell_type": "markdown",
   "id": "cc4068cd",
   "metadata": {},
   "source": [
    "We need to decrease both False Positive and False Negative in our case"
   ]
  },
  {
   "cell_type": "markdown",
   "id": "76139c3b",
   "metadata": {},
   "source": [
    "### *Word Embedding Word2Vec*"
   ]
  },
  {
   "cell_type": "markdown",
   "id": "347367d8",
   "metadata": {},
   "source": [
    "Converting sentences into tokens"
   ]
  },
  {
   "cell_type": "code",
   "execution_count": 235,
   "id": "8015f283",
   "metadata": {},
   "outputs": [],
   "source": [
    "from nltk import sent_tokenize\n",
    "from gensim.utils import simple_preprocess"
   ]
  },
  {
   "cell_type": "code",
   "execution_count": 236,
   "id": "5f39f8b4",
   "metadata": {},
   "outputs": [],
   "source": [
    "words = []\n",
    "for sent in corpus:\n",
    "    sent_token = sent_tokenize(sent)\n",
    "    for sent_ in sent_token:\n",
    "        words.append(simple_preprocess(sent))"
   ]
  },
  {
   "cell_type": "code",
   "execution_count": 239,
   "id": "99889a18",
   "metadata": {},
   "outputs": [
    {
     "data": {
      "text/plain": [
       "['reviewers',\n",
       " 'mentioned',\n",
       " 'watching',\n",
       " 'oz',\n",
       " 'episode',\n",
       " 'll',\n",
       " 'hooked',\n",
       " 'exactly',\n",
       " 'happened',\n",
       " 'br',\n",
       " 'br',\n",
       " 'struck',\n",
       " 'oz',\n",
       " 'its',\n",
       " 'brutality',\n",
       " 'unflinching',\n",
       " 'scenes',\n",
       " 'violence',\n",
       " 'trust',\n",
       " 'faint',\n",
       " 'hearted',\n",
       " 'timid',\n",
       " 'pulls',\n",
       " 'punches',\n",
       " 'regards',\n",
       " 'drugs',\n",
       " 'sex',\n",
       " 'violence',\n",
       " 'its',\n",
       " 'hardcore',\n",
       " 'classic',\n",
       " 'br',\n",
       " 'br',\n",
       " 'called',\n",
       " 'oz',\n",
       " 'nickname',\n",
       " 'given',\n",
       " 'oswald',\n",
       " 'maximum',\n",
       " 'security',\n",
       " 'penitentary',\n",
       " 'focuses',\n",
       " 'mainly',\n",
       " 'emerald',\n",
       " 'experimental',\n",
       " 'prison',\n",
       " 'cells',\n",
       " 'fronts',\n",
       " 'inwards',\n",
       " 'privacy',\n",
       " 'agenda',\n",
       " 'em',\n",
       " 'aryans',\n",
       " 'muslims',\n",
       " 'gangstas',\n",
       " 'latinos',\n",
       " 'christians',\n",
       " 'italians',\n",
       " 'irish',\n",
       " 'scuffles',\n",
       " 'stares',\n",
       " 'dodgy',\n",
       " 'dealings',\n",
       " 'shady',\n",
       " 'agreements',\n",
       " 'away',\n",
       " 'br',\n",
       " 'br',\n",
       " 'appeal',\n",
       " 'due',\n",
       " 'goes',\n",
       " 'shows',\n",
       " 'wouldn',\n",
       " 'dare',\n",
       " 'forget',\n",
       " 'pictures',\n",
       " 'painted',\n",
       " 'mainstream',\n",
       " 'audiences',\n",
       " 'forget',\n",
       " 'charm',\n",
       " 'forget',\n",
       " 'romance',\n",
       " 'oz',\n",
       " 'doesn',\n",
       " 'mess',\n",
       " 'around',\n",
       " 'episode',\n",
       " 'struck',\n",
       " 'nasty',\n",
       " 'surreal',\n",
       " 'couldn',\n",
       " 'watched',\n",
       " 'developed',\n",
       " 'taste',\n",
       " 'oz',\n",
       " 'accustomed',\n",
       " 'levels',\n",
       " 'graphic',\n",
       " 'violence',\n",
       " 'violence',\n",
       " 'injustice',\n",
       " 'crooked',\n",
       " 'guards',\n",
       " 'll',\n",
       " 'sold',\n",
       " 'nickel',\n",
       " 'inmates',\n",
       " 'll',\n",
       " 'away',\n",
       " 'mannered',\n",
       " 'inmates',\n",
       " 'being',\n",
       " 'turned',\n",
       " 'into',\n",
       " 'prison',\n",
       " 'bitches',\n",
       " 'due',\n",
       " 'lack',\n",
       " 'skills',\n",
       " 'prison',\n",
       " 'watching',\n",
       " 'oz',\n",
       " 'become',\n",
       " 'comfortable',\n",
       " 'uncomfortable',\n",
       " 'viewing',\n",
       " 'thats',\n",
       " 'darker']"
      ]
     },
     "execution_count": 239,
     "metadata": {},
     "output_type": "execute_result"
    }
   ],
   "source": [
    "words[0]#tokens for first sentence"
   ]
  },
  {
   "cell_type": "code",
   "execution_count": 231,
   "id": "f8e3bf1a",
   "metadata": {},
   "outputs": [],
   "source": [
    "import gensim.downloader as api\n",
    "import gensim\n",
    "\n",
    "wv = api.load('word2vec-google-news-300')"
   ]
  },
  {
   "cell_type": "code",
   "execution_count": 240,
   "id": "2aaa4cc3",
   "metadata": {},
   "outputs": [],
   "source": [
    "model=gensim.models.Word2Vec(words,window=10,min_count=2)"
   ]
  },
  {
   "cell_type": "code",
   "execution_count": 242,
   "id": "1d73cb09",
   "metadata": {},
   "outputs": [
    {
     "data": {
      "text/plain": [
       "['br',\n",
       " 'movie',\n",
       " 'film',\n",
       " 'really',\n",
       " 'into',\n",
       " 'because',\n",
       " 'don',\n",
       " 'its',\n",
       " 'movies',\n",
       " 'characters',\n",
       " 'films',\n",
       " 'seen',\n",
       " 'being',\n",
       " 'plot',\n",
       " 'acting',\n",
       " 'scene',\n",
       " 'scenes',\n",
       " 've',\n",
       " 'something',\n",
       " 'watching',\n",
       " 're',\n",
       " 'actors',\n",
       " 'doesn',\n",
       " 'director',\n",
       " 'didn',\n",
       " 'years',\n",
       " 'funny',\n",
       " 'another',\n",
       " 'actually',\n",
       " 'makes',\n",
       " 'going',\n",
       " 'cast',\n",
       " 'things',\n",
       " 'horror',\n",
       " 'around',\n",
       " 'seems',\n",
       " 'however',\n",
       " 'comedy',\n",
       " 'series',\n",
       " 'action',\n",
       " 'without',\n",
       " 'guy',\n",
       " 'times',\n",
       " 'isn',\n",
       " 'role',\n",
       " 'almost',\n",
       " 'gets',\n",
       " 'interesting',\n",
       " 'script',\n",
       " 'minutes',\n",
       " 'll',\n",
       " 'making',\n",
       " 'anything',\n",
       " 'tv',\n",
       " 'probably',\n",
       " 'performance',\n",
       " 'away',\n",
       " 'anyone',\n",
       " 'worst',\n",
       " 'played',\n",
       " 'looking',\n",
       " 'screen',\n",
       " 'although',\n",
       " 'dvd',\n",
       " 'having',\n",
       " 'trying',\n",
       " 'everything',\n",
       " 'goes',\n",
       " 'ending',\n",
       " 'comes',\n",
       " 'maybe',\n",
       " 'shows',\n",
       " 'worth',\n",
       " 'different',\n",
       " 'actor',\n",
       " 'someone',\n",
       " 'american',\n",
       " 'effects',\n",
       " 'looks',\n",
       " 'watched',\n",
       " 'wasn',\n",
       " 'everyone',\n",
       " 'plays',\n",
       " 'audience',\n",
       " 'instead',\n",
       " 'later',\n",
       " 'takes',\n",
       " 'john',\n",
       " 'beautiful',\n",
       " 'himself',\n",
       " 'seeing',\n",
       " 'version',\n",
       " 'shot',\n",
       " 'excellent',\n",
       " 'fan',\n",
       " 'used',\n",
       " 'nice',\n",
       " 'budget',\n",
       " 'simply',\n",
       " 'completely',\n",
       " 'along',\n",
       " 'hollywood',\n",
       " 'kids',\n",
       " 'boring',\n",
       " 'friends',\n",
       " 'camera',\n",
       " 'production',\n",
       " 'enjoy',\n",
       " 'classic',\n",
       " 'given',\n",
       " 'stupid',\n",
       " 'performances',\n",
       " 'truly',\n",
       " 'couple',\n",
       " 'video',\n",
       " 'awful',\n",
       " 'sex',\n",
       " 'recommend',\n",
       " 'terrible',\n",
       " 'getting',\n",
       " 'won',\n",
       " 'understand',\n",
       " 'moments',\n",
       " 'itself',\n",
       " 'wonderful',\n",
       " 'playing',\n",
       " 'style',\n",
       " 'episode',\n",
       " 'others',\n",
       " 'perfect',\n",
       " 'stars',\n",
       " 'doing',\n",
       " 'definitely',\n",
       " 'lines',\n",
       " 'dialogue',\n",
       " 'gives',\n",
       " 'couldn',\n",
       " 'finally',\n",
       " 'absolutely',\n",
       " 'title',\n",
       " 'certainly',\n",
       " 'liked',\n",
       " 'become',\n",
       " 'entertaining',\n",
       " 'worse',\n",
       " 'sort',\n",
       " 'cinema',\n",
       " 'loved',\n",
       " 'called',\n",
       " 'mr',\n",
       " 'overall',\n",
       " 'guys',\n",
       " 'based',\n",
       " 'entire',\n",
       " 'supposed',\n",
       " 'drama',\n",
       " 'waste',\n",
       " 'beginning',\n",
       " 'fans',\n",
       " 'totally',\n",
       " 'humor',\n",
       " 'direction',\n",
       " 'wanted',\n",
       " 'seemed',\n",
       " 'evil',\n",
       " 'lives',\n",
       " 'despite',\n",
       " 'already',\n",
       " 'throughout',\n",
       " 'becomes',\n",
       " 'killer',\n",
       " 'unfortunately',\n",
       " 'quality',\n",
       " 'days',\n",
       " 'michael',\n",
       " 'flick',\n",
       " 'wants',\n",
       " 'writing',\n",
       " 'horrible',\n",
       " 'amazing',\n",
       " 'today',\n",
       " 'works',\n",
       " 'god',\n",
       " 'etc',\n",
       " 'tries',\n",
       " 'viewer',\n",
       " 'genre',\n",
       " 'enjoyed',\n",
       " 'turns',\n",
       " 'brilliant',\n",
       " 'eyes',\n",
       " 'stuff',\n",
       " 'parts',\n",
       " 'favorite',\n",
       " 'girls',\n",
       " 'directed',\n",
       " 'kid',\n",
       " 'actress',\n",
       " 'themselves',\n",
       " 'obviously',\n",
       " 'sometimes',\n",
       " 'thinking',\n",
       " 'killed',\n",
       " 'myself',\n",
       " 'starts',\n",
       " 'decent',\n",
       " 'daughter',\n",
       " 'highly',\n",
       " 'says',\n",
       " 'anyway',\n",
       " 'writer',\n",
       " 'known',\n",
       " 'happens',\n",
       " 'feeling',\n",
       " 'coming',\n",
       " 'stories',\n",
       " 'police',\n",
       " 'extremely',\n",
       " 'violence',\n",
       " 'hero',\n",
       " 'involved',\n",
       " 'lack',\n",
       " 'ok',\n",
       " 'hilarious',\n",
       " 'cannot',\n",
       " 'roles',\n",
       " 'wouldn',\n",
       " 'particularly',\n",
       " 'living',\n",
       " 'including',\n",
       " 'hell',\n",
       " 'crap',\n",
       " 'murder',\n",
       " 'looked',\n",
       " 'david',\n",
       " 'obvious',\n",
       " 'gore',\n",
       " 'happened',\n",
       " 'serious',\n",
       " 'james',\n",
       " 'attempt',\n",
       " 'taken',\n",
       " 'shown',\n",
       " 'robert',\n",
       " 'husband',\n",
       " 'english',\n",
       " 'reality',\n",
       " 'seriously',\n",
       " 'released',\n",
       " 'jokes',\n",
       " 'opening',\n",
       " 'alone',\n",
       " 'none',\n",
       " 'across',\n",
       " 'sad',\n",
       " 'exactly',\n",
       " 'career',\n",
       " 'hours',\n",
       " 'saying',\n",
       " 'usually',\n",
       " 'cinematography',\n",
       " 'talent',\n",
       " 'documentary',\n",
       " 'annoying',\n",
       " 'relationship',\n",
       " 'yourself',\n",
       " 'running',\n",
       " 'shots',\n",
       " 'taking',\n",
       " 'ridiculous',\n",
       " 'important',\n",
       " 'female',\n",
       " 'ends',\n",
       " 'started',\n",
       " 'turned',\n",
       " 'jack',\n",
       " 'opinion',\n",
       " 'scary',\n",
       " 'mostly',\n",
       " 'beyond',\n",
       " 'ones',\n",
       " 'silly',\n",
       " 'rating',\n",
       " 'somewhat',\n",
       " 'words',\n",
       " 'novel',\n",
       " 'talking',\n",
       " 'knows',\n",
       " 'disappointed',\n",
       " 'non',\n",
       " 'apparently',\n",
       " 'attention',\n",
       " 'upon',\n",
       " 'basically',\n",
       " 'finds',\n",
       " 'cheap',\n",
       " 'due',\n",
       " 'television',\n",
       " 'musical',\n",
       " 'problems',\n",
       " 'clich',\n",
       " 'episodes',\n",
       " 'clearly',\n",
       " 'thriller',\n",
       " 'local',\n",
       " 'british',\n",
       " 'events',\n",
       " 'sequence',\n",
       " 'aren',\n",
       " 'french',\n",
       " 'moving',\n",
       " 'review',\n",
       " 'tells',\n",
       " 'predictable',\n",
       " 'comic',\n",
       " 'entertainment',\n",
       " 'songs',\n",
       " 'george',\n",
       " 'future',\n",
       " 'dialog',\n",
       " 'sets',\n",
       " 'easily',\n",
       " 'enjoyable',\n",
       " 'appears',\n",
       " 'haven',\n",
       " 'soundtrack',\n",
       " 'hate',\n",
       " 'romantic',\n",
       " 'lots',\n",
       " 'giving',\n",
       " 'supporting',\n",
       " 'message',\n",
       " 'release',\n",
       " 'mention',\n",
       " 'within',\n",
       " 'filmed',\n",
       " 'sequel',\n",
       " 'falls',\n",
       " 'monster',\n",
       " 'needs',\n",
       " 'dull',\n",
       " 'bunch',\n",
       " 'suspense',\n",
       " 'surprised',\n",
       " 'showing',\n",
       " 'easy',\n",
       " 'sorry',\n",
       " 'tried',\n",
       " 'working',\n",
       " 'ways',\n",
       " 'theater',\n",
       " 'theme',\n",
       " 'parents',\n",
       " 'named',\n",
       " 'storyline',\n",
       " 'effort',\n",
       " 'feature',\n",
       " 'dr',\n",
       " 'tale',\n",
       " 'using',\n",
       " 'typical',\n",
       " 'comments',\n",
       " 'mystery',\n",
       " 'th',\n",
       " 'editing',\n",
       " 'avoid',\n",
       " 'oscar',\n",
       " 'doubt',\n",
       " 'richard',\n",
       " 'okay',\n",
       " 'peter',\n",
       " 'fantastic',\n",
       " 'feels',\n",
       " 'realistic',\n",
       " 'viewers',\n",
       " 'nearly',\n",
       " 'viewing',\n",
       " 'elements',\n",
       " 'points',\n",
       " 'herself',\n",
       " 'greatest',\n",
       " 'means',\n",
       " 'crime',\n",
       " 'rent',\n",
       " 'paul',\n",
       " 'actual',\n",
       " 'believable',\n",
       " 'tom',\n",
       " 'forget',\n",
       " 'somehow',\n",
       " 'begins',\n",
       " 'animation',\n",
       " 'leads',\n",
       " 'reviews',\n",
       " 'america',\n",
       " 'weak',\n",
       " 'average',\n",
       " 'york',\n",
       " 'sequences',\n",
       " 'fi',\n",
       " 'killing',\n",
       " 'atmosphere',\n",
       " 'imdb',\n",
       " 'eventually',\n",
       " 'premise',\n",
       " 'sci',\n",
       " 'whatever',\n",
       " 'expected',\n",
       " 'boys',\n",
       " 'lame',\n",
       " 'indeed',\n",
       " 'poorly',\n",
       " 'situation',\n",
       " 'truth',\n",
       " 'shame',\n",
       " 'society',\n",
       " 'decided',\n",
       " 'lee',\n",
       " 'romance',\n",
       " 'needed',\n",
       " 'acted',\n",
       " 'crew',\n",
       " 'gay',\n",
       " 'leaves',\n",
       " 'sexual',\n",
       " 'emotional',\n",
       " 'unless',\n",
       " 'western',\n",
       " 'possibly',\n",
       " 'footage',\n",
       " 'de',\n",
       " 'credits',\n",
       " 'forced',\n",
       " 'memorable',\n",
       " 'became',\n",
       " 'reading',\n",
       " 'otherwise',\n",
       " 'male',\n",
       " 'meets',\n",
       " 'plus',\n",
       " 'hands',\n",
       " 'cheesy',\n",
       " 'screenplay',\n",
       " 'masterpiece',\n",
       " 'superb',\n",
       " 'features',\n",
       " 'stage',\n",
       " 'interested',\n",
       " 'whom',\n",
       " 'laughs',\n",
       " 'perfectly',\n",
       " 'comment',\n",
       " 'cop',\n",
       " 'badly',\n",
       " 'weird',\n",
       " 'inside',\n",
       " 'sounds',\n",
       " 'previous',\n",
       " 'japanese',\n",
       " 'personal',\n",
       " 'quickly',\n",
       " 'crazy',\n",
       " 'girlfriend',\n",
       " 'disney',\n",
       " 'keeps',\n",
       " 'towards',\n",
       " 'battle',\n",
       " 'writers',\n",
       " 'setting',\n",
       " 'joe',\n",
       " 'worked',\n",
       " 'background',\n",
       " 'incredibly',\n",
       " 'earlier',\n",
       " 'mess',\n",
       " 'dumb',\n",
       " 'business',\n",
       " 'unique',\n",
       " 'bill',\n",
       " 'realize',\n",
       " 'directors',\n",
       " 'powerful',\n",
       " 'dramatic',\n",
       " 'older',\n",
       " 'rate',\n",
       " 'joke',\n",
       " 'following',\n",
       " 'plenty',\n",
       " 'directing',\n",
       " 'various',\n",
       " 'creepy',\n",
       " 'development',\n",
       " 'brings',\n",
       " 'political',\n",
       " 'admit',\n",
       " 'apart',\n",
       " 'leading',\n",
       " 'fairly',\n",
       " 'reasons',\n",
       " 'spent',\n",
       " 'portrayed',\n",
       " 'era',\n",
       " 'outside',\n",
       " 'telling',\n",
       " 'wasted',\n",
       " 'zombie',\n",
       " 'fighting',\n",
       " 'william',\n",
       " 'deserves',\n",
       " 'fails',\n",
       " 'twist',\n",
       " 'secret',\n",
       " 'return',\n",
       " 'expecting',\n",
       " 'missing',\n",
       " 'attempts',\n",
       " 'ideas',\n",
       " 'ended',\n",
       " 'manages',\n",
       " 'cute',\n",
       " 'recently',\n",
       " 'villain',\n",
       " 'german',\n",
       " 'fantasy',\n",
       " 'talented',\n",
       " 'odd',\n",
       " 'unlike',\n",
       " 'produced',\n",
       " 'hardly',\n",
       " 'spoilers',\n",
       " 'clever',\n",
       " 'remake',\n",
       " 'laughing',\n",
       " 'members',\n",
       " 'nudity',\n",
       " 'escape',\n",
       " 'co',\n",
       " 'italian',\n",
       " 'filmmakers',\n",
       " 'public',\n",
       " 'potential',\n",
       " 'created',\n",
       " 'casting',\n",
       " 'missed',\n",
       " 'pace',\n",
       " 'cartoon',\n",
       " 'married',\n",
       " 'pure',\n",
       " 'waiting',\n",
       " 'scott',\n",
       " 'filled',\n",
       " 'further',\n",
       " 'incredible',\n",
       " 'mentioned',\n",
       " 'sadly',\n",
       " 'van',\n",
       " 'visual',\n",
       " 'familiar',\n",
       " 'slightly',\n",
       " 'considering',\n",
       " 'died',\n",
       " 'popular',\n",
       " 'sweet',\n",
       " 'credit',\n",
       " 'la',\n",
       " 'anti',\n",
       " 'tension',\n",
       " 'convincing',\n",
       " 'uses',\n",
       " 'jane',\n",
       " 'decides',\n",
       " 'social',\n",
       " 'sees',\n",
       " 'dancing',\n",
       " 'entirely',\n",
       " 'bored',\n",
       " 'neither',\n",
       " 'intelligent',\n",
       " 'compared',\n",
       " 'follows',\n",
       " 'former',\n",
       " 'choice',\n",
       " 'mad',\n",
       " 'portrayal',\n",
       " 'brain',\n",
       " 'suddenly',\n",
       " 'appreciate',\n",
       " 'college',\n",
       " 'alive',\n",
       " 'younger',\n",
       " 'brothers',\n",
       " 'amount',\n",
       " 'moves',\n",
       " 'violent',\n",
       " 'yeah',\n",
       " 'depth',\n",
       " 'images',\n",
       " 'biggest',\n",
       " 'concept',\n",
       " 'project',\n",
       " 'producers',\n",
       " 'alien',\n",
       " 'drug',\n",
       " 'recommended',\n",
       " 'successful',\n",
       " 'fiction',\n",
       " 'amusing',\n",
       " 'situations',\n",
       " 'exciting',\n",
       " 'pointless',\n",
       " 'focus',\n",
       " 'christmas',\n",
       " 'studio',\n",
       " 'spirit',\n",
       " 'longer',\n",
       " 'pathetic',\n",
       " 'culture',\n",
       " 'adventure',\n",
       " 'sick',\n",
       " 'bizarre',\n",
       " 'meaning',\n",
       " 'trash',\n",
       " 'fake',\n",
       " 'revenge',\n",
       " 'ultimately',\n",
       " 'ben',\n",
       " 'positive',\n",
       " 'kills',\n",
       " 'honest',\n",
       " 'effective',\n",
       " 'recent',\n",
       " 'awesome',\n",
       " 'respect',\n",
       " 'vampire',\n",
       " 'shoot',\n",
       " 'super',\n",
       " 'gang',\n",
       " 'questions',\n",
       " 'barely',\n",
       " 'likes',\n",
       " 'channel',\n",
       " 'singing',\n",
       " 'garbage',\n",
       " 'aside',\n",
       " 'impressive',\n",
       " 'impossible',\n",
       " 'changed',\n",
       " 'humour',\n",
       " 'weren',\n",
       " 'solid',\n",
       " 'rated',\n",
       " 'values',\n",
       " 'involving',\n",
       " 'accent',\n",
       " 'genius',\n",
       " 'leaving',\n",
       " 'prison',\n",
       " 'showed',\n",
       " 'runs',\n",
       " 'shooting',\n",
       " 'literally',\n",
       " 'starring',\n",
       " 'books',\n",
       " 'somewhere',\n",
       " 'charles',\n",
       " 'tough',\n",
       " 'failed',\n",
       " 'chemistry',\n",
       " 'disturbing',\n",
       " 'ex',\n",
       " 'adult',\n",
       " 'immediately',\n",
       " 'thanks',\n",
       " 'army',\n",
       " 'park',\n",
       " 'makers',\n",
       " 'cult',\n",
       " 'nobody',\n",
       " 'honestly',\n",
       " 'jim',\n",
       " 'normal',\n",
       " 'considered',\n",
       " 'grade',\n",
       " 'audiences',\n",
       " 'soldiers',\n",
       " 'ability',\n",
       " 'conclusion',\n",
       " 'sam',\n",
       " 'sitting',\n",
       " 'mary',\n",
       " 'mood',\n",
       " 'jones',\n",
       " 'journey',\n",
       " 'slasher',\n",
       " 'surprisingly',\n",
       " 'twists',\n",
       " 'added',\n",
       " 'sexy',\n",
       " 'thinks',\n",
       " 'explain',\n",
       " 'producer',\n",
       " 'chase',\n",
       " 'bother',\n",
       " 'issues',\n",
       " 'standard',\n",
       " 'personally',\n",
       " 'nowhere',\n",
       " 'animated',\n",
       " 'purpose',\n",
       " 'london',\n",
       " 'everybody',\n",
       " 'taste',\n",
       " 'ray',\n",
       " 'pieces',\n",
       " 'beautifully',\n",
       " 'frank',\n",
       " 'likely',\n",
       " 'naked',\n",
       " 'government',\n",
       " 'military',\n",
       " 'subtle',\n",
       " 'soul',\n",
       " 'smart',\n",
       " 'computer',\n",
       " 'ed',\n",
       " 'remains',\n",
       " 'aspect',\n",
       " 'available',\n",
       " 'charlie',\n",
       " 'generally',\n",
       " 'appearance',\n",
       " 'terms',\n",
       " 'complex',\n",
       " 'opera',\n",
       " 'cinematic',\n",
       " 'photography',\n",
       " 'scenery',\n",
       " 'steve',\n",
       " 'date',\n",
       " 'pictures',\n",
       " 'spoiler',\n",
       " 'presence',\n",
       " 'boyfriend',\n",
       " 'comedies',\n",
       " 'utterly',\n",
       " 'charming',\n",
       " 'historical',\n",
       " 'lovely',\n",
       " 'wow',\n",
       " 'adaptation',\n",
       " 'hey',\n",
       " 'bond',\n",
       " 'chris',\n",
       " 'victim',\n",
       " 'innocent',\n",
       " 'giant',\n",
       " 'terrific',\n",
       " 'ghost',\n",
       " 'magic',\n",
       " 'disappointing',\n",
       " 'managed',\n",
       " 'indian',\n",
       " 'appeal',\n",
       " 'knowing',\n",
       " 'laughable',\n",
       " 'constantly',\n",
       " 'changes',\n",
       " 'emotions',\n",
       " 'thrown',\n",
       " 'walking',\n",
       " 'detective',\n",
       " 'attack',\n",
       " 'suppose',\n",
       " 'narrative',\n",
       " 'details',\n",
       " 'zombies',\n",
       " 'teen',\n",
       " 'rare',\n",
       " 'smith',\n",
       " 'building',\n",
       " 'harry',\n",
       " 'touching',\n",
       " 'unbelievable',\n",
       " 'places',\n",
       " 'loves',\n",
       " 'names',\n",
       " 'costumes',\n",
       " 'club',\n",
       " 'award',\n",
       " 'tony',\n",
       " 'besides',\n",
       " 'minor',\n",
       " 'slowly',\n",
       " 'painful',\n",
       " 'intended',\n",
       " 'excuse',\n",
       " 'bruce',\n",
       " 'presented',\n",
       " 'impression',\n",
       " 'paris',\n",
       " 'filming',\n",
       " 'speaking',\n",
       " 'festival',\n",
       " 'climax',\n",
       " 'stands',\n",
       " 'contains',\n",
       " 'feelings',\n",
       " 'equally',\n",
       " 'outstanding',\n",
       " 'brief',\n",
       " 'hoping',\n",
       " 'puts',\n",
       " 'themes',\n",
       " 'hurt',\n",
       " 'sub',\n",
       " 'central',\n",
       " 'acts',\n",
       " 'mysterious',\n",
       " 'fully',\n",
       " 'forever',\n",
       " 'mistake',\n",
       " 'critics',\n",
       " 'boss',\n",
       " 'surely',\n",
       " 'emotion',\n",
       " 'manner',\n",
       " 'aspects',\n",
       " 'expectations',\n",
       " 'disappointment',\n",
       " 'mainly',\n",
       " 'lived',\n",
       " 'developed',\n",
       " 'hospital',\n",
       " 'stunning',\n",
       " 'worthy',\n",
       " 'image',\n",
       " 'justice',\n",
       " 'tired',\n",
       " 'drawn',\n",
       " 'pain',\n",
       " 'fascinating',\n",
       " 'stewart',\n",
       " 'ahead',\n",
       " 'charm',\n",
       " 'lover',\n",
       " 'opportunity',\n",
       " 'holes',\n",
       " 'laughed',\n",
       " 'martin',\n",
       " 'christopher',\n",
       " 'hitchcock',\n",
       " 'faces',\n",
       " 'shock',\n",
       " 'dreams',\n",
       " 'students',\n",
       " 'confusing',\n",
       " 'finding',\n",
       " 'random',\n",
       " 'news',\n",
       " 'jean',\n",
       " 'location',\n",
       " 'batman',\n",
       " 'happening',\n",
       " 'agent',\n",
       " 'flicks',\n",
       " 'confused',\n",
       " 'content',\n",
       " 'billy',\n",
       " 'folks',\n",
       " 'drugs',\n",
       " 'exception',\n",
       " 'porn',\n",
       " 'marriage',\n",
       " 'st',\n",
       " 'kelly',\n",
       " 'mom',\n",
       " 'twice',\n",
       " 'noir',\n",
       " 'dies',\n",
       " 'likable',\n",
       " 'americans',\n",
       " 'compelling',\n",
       " 'ii',\n",
       " 'affair',\n",
       " 'difference',\n",
       " 'relationships',\n",
       " 'putting',\n",
       " 'cops',\n",
       " 'supposedly',\n",
       " 'gem',\n",
       " 'lighting',\n",
       " 'seemingly',\n",
       " 'falling',\n",
       " 'impressed',\n",
       " 'extreme',\n",
       " 'actresses',\n",
       " 'lacks',\n",
       " 'moral',\n",
       " 'trailer',\n",
       " 'forgotten',\n",
       " 'information',\n",
       " 'victims',\n",
       " 'collection',\n",
       " 'russian',\n",
       " 'paid',\n",
       " 'creative',\n",
       " 'approach',\n",
       " 'helps',\n",
       " 'funniest',\n",
       " 'adds',\n",
       " 'ugly',\n",
       " 'church',\n",
       " 'appeared',\n",
       " 'hotel',\n",
       " 'christian',\n",
       " 'delivers',\n",
       " 'anymore',\n",
       " 'pop',\n",
       " 'creature',\n",
       " 'gorgeous',\n",
       " 'suicide',\n",
       " 'adults',\n",
       " 'intense',\n",
       " 'wondering',\n",
       " 'therefore',\n",
       " 'detail',\n",
       " 'flaws',\n",
       " 'hasn',\n",
       " 'rip',\n",
       " 'latter',\n",
       " 'grace',\n",
       " 'serial',\n",
       " 'followed',\n",
       " 'disaster',\n",
       " 'lets',\n",
       " 'mediocre',\n",
       " 'numbers',\n",
       " 'offers',\n",
       " 'stuck',\n",
       " 'rented',\n",
       " 'phone',\n",
       " 'reminded',\n",
       " 'merely',\n",
       " 'vs',\n",
       " 'ms',\n",
       " 'attractive',\n",
       " 'cgi',\n",
       " 'allowed',\n",
       " 'jackson',\n",
       " 'animals',\n",
       " 'scientist',\n",
       " 'shouldn',\n",
       " 'extra',\n",
       " 'fashion',\n",
       " 'impact',\n",
       " 'games',\n",
       " 'woods',\n",
       " 'dirty',\n",
       " 'shocking',\n",
       " 'imagination',\n",
       " 'provides',\n",
       " 'negative',\n",
       " 'inspired',\n",
       " 'absolute',\n",
       " 'wise',\n",
       " 'jason',\n",
       " 'thats',\n",
       " 'becoming',\n",
       " 'personality',\n",
       " 'standards',\n",
       " 'damn',\n",
       " 'murders',\n",
       " 'onto',\n",
       " 'seconds',\n",
       " 'fellow',\n",
       " 'wearing',\n",
       " 'queen',\n",
       " 'epic',\n",
       " 'turning',\n",
       " 'fox',\n",
       " 'whatsoever',\n",
       " 'lies',\n",
       " 'tragic',\n",
       " 'angry',\n",
       " 'picked',\n",
       " 'nasty',\n",
       " 'torture',\n",
       " 'henry',\n",
       " 'returns',\n",
       " 'kevin',\n",
       " 'accident',\n",
       " 'teacher',\n",
       " 'artistic',\n",
       " 'tragedy',\n",
       " 'helped',\n",
       " 'ryan',\n",
       " 'states',\n",
       " 'ford',\n",
       " 'member',\n",
       " 'commentary',\n",
       " ...]"
      ]
     },
     "execution_count": 242,
     "metadata": {},
     "output_type": "execute_result"
    }
   ],
   "source": [
    "#checking vocabulary\n",
    "model.wv.index_to_key"
   ]
  },
  {
   "cell_type": "code",
   "execution_count": 243,
   "id": "0ac94ac1",
   "metadata": {},
   "outputs": [
    {
     "data": {
      "text/plain": [
       "50000"
      ]
     },
     "execution_count": 243,
     "metadata": {},
     "output_type": "execute_result"
    }
   ],
   "source": [
    "model.corpus_count"
   ]
  },
  {
   "cell_type": "code",
   "execution_count": 245,
   "id": "5bf16b27",
   "metadata": {},
   "outputs": [
    {
     "name": "stdout",
     "output_type": "stream",
     "text": [
      "[('ok', 0.8956886529922485), ('alright', 0.84806889295578), ('thats', 0.7639554738998413), ('sucked', 0.7478033304214478), ('sucks', 0.7447683215141296), ('kinda', 0.7398650050163269), ('yeah', 0.7352690100669861), ('anyway', 0.7347767949104309), ('heck', 0.7300905585289001), ('darn', 0.7178356051445007)]\n"
     ]
    }
   ],
   "source": [
    "print(model.wv.similar_by_word('okay'))"
   ]
  },
  {
   "cell_type": "code",
   "execution_count": 246,
   "id": "1475310a",
   "metadata": {},
   "outputs": [
    {
     "name": "stdout",
     "output_type": "stream",
     "text": [
      "[('takashi', 0.6482163667678833), ('cinema', 0.6227898001670837), ('film', 0.6205101013183594), ('genre', 0.6113492250442505), ('doa', 0.590950071811676), ('gems', 0.5898149013519287), ('flicks', 0.5819424390792847), ('decade', 0.5802896618843079), ('lesser', 0.576977014541626), ('movies', 0.5753198266029358)]\n"
     ]
    }
   ],
   "source": [
    "print(model.wv.most_similar(\"films\"))"
   ]
  },
  {
   "cell_type": "code",
   "execution_count": 267,
   "id": "eb2255c8",
   "metadata": {},
   "outputs": [
    {
     "data": {
      "text/plain": [
       "<gensim.models.word2vec.Word2Vec at 0x1f5a50291c0>"
      ]
     },
     "execution_count": 267,
     "metadata": {},
     "output_type": "execute_result"
    }
   ],
   "source": [
    "model"
   ]
  },
  {
   "cell_type": "markdown",
   "id": "1c32fae6",
   "metadata": {},
   "source": [
    "### *Using Average Word2Vec*"
   ]
  },
  {
   "cell_type": "code",
   "execution_count": 269,
   "id": "aeabfe51",
   "metadata": {},
   "outputs": [],
   "source": [
    "def avg_word2vec(doc):\n",
    "    return np.mean([model.wv[word] for word in doc if word in model.wv.index_to_key],axis=0)"
   ]
  },
  {
   "cell_type": "code",
   "execution_count": 271,
   "id": "7e5c3c39",
   "metadata": {},
   "outputs": [
    {
     "name": "stderr",
     "output_type": "stream",
     "text": [
      "100%|████████████████████████████████████████████████████████████████████████████| 50000/50000 [09:05<00:00, 91.63it/s]\n"
     ]
    }
   ],
   "source": [
    "from tqdm import tqdm\n",
    "X = []\n",
    "for i in tqdm(range(len(words))):\n",
    "    X.append(avg_word2vec(words[i]))"
   ]
  },
  {
   "cell_type": "code",
   "execution_count": 272,
   "id": "255d9eb1",
   "metadata": {},
   "outputs": [
    {
     "data": {
      "text/plain": [
       "list"
      ]
     },
     "execution_count": 272,
     "metadata": {},
     "output_type": "execute_result"
    }
   ],
   "source": [
    "type(X)"
   ]
  },
  {
   "cell_type": "code",
   "execution_count": 273,
   "id": "9ed4248e",
   "metadata": {},
   "outputs": [],
   "source": [
    "X_new = np.array(X)"
   ]
  },
  {
   "cell_type": "code",
   "execution_count": 274,
   "id": "5f283e64",
   "metadata": {},
   "outputs": [
    {
     "data": {
      "text/plain": [
       "(100,)"
      ]
     },
     "execution_count": 274,
     "metadata": {},
     "output_type": "execute_result"
    }
   ],
   "source": [
    "X_new[0].shape"
   ]
  },
  {
   "cell_type": "code",
   "execution_count": 276,
   "id": "d8f9b3f7",
   "metadata": {},
   "outputs": [
    {
     "data": {
      "text/plain": [
       "array([1, 1, 1, ..., 0, 0, 0], dtype=uint8)"
      ]
     },
     "execution_count": 276,
     "metadata": {},
     "output_type": "execute_result"
    }
   ],
   "source": [
    "y=pd.get_dummies(data['sentiment'])\n",
    "y=y.iloc[:,1].values\n",
    "y"
   ]
  },
  {
   "cell_type": "code",
   "execution_count": 279,
   "id": "4f1d51f1",
   "metadata": {},
   "outputs": [],
   "source": [
    "# Train Test Split\n",
    "from sklearn.model_selection import train_test_split\n",
    "X_train, X_test, y_train, y_test = train_test_split(X_new, y, test_size = 0.20, random_state = 0)"
   ]
  },
  {
   "cell_type": "code",
   "execution_count": 283,
   "id": "b9ef1701",
   "metadata": {},
   "outputs": [
    {
     "data": {
      "text/plain": [
       "LogisticRegression()"
      ]
     },
     "execution_count": 283,
     "metadata": {},
     "output_type": "execute_result"
    }
   ],
   "source": [
    "from sklearn.linear_model import LogisticRegression\n",
    "clf = LogisticRegression()\n",
    "clf.fit(X_train, y_train)"
   ]
  },
  {
   "cell_type": "code",
   "execution_count": 285,
   "id": "3d50b8a7",
   "metadata": {},
   "outputs": [],
   "source": [
    "#prediction\n",
    "y_pred=clf.predict(X_test)"
   ]
  },
  {
   "cell_type": "code",
   "execution_count": 286,
   "id": "33b7572f",
   "metadata": {},
   "outputs": [
    {
     "name": "stdout",
     "output_type": "stream",
     "text": [
      "0.8591\n"
     ]
    }
   ],
   "source": [
    "score=accuracy_score(y_test,y_pred)\n",
    "print(score)"
   ]
  },
  {
   "cell_type": "code",
   "execution_count": 287,
   "id": "cd2be86e",
   "metadata": {},
   "outputs": [
    {
     "name": "stdout",
     "output_type": "stream",
     "text": [
      "              precision    recall  f1-score   support\n",
      "\n",
      "           0       0.85      0.87      0.86      4956\n",
      "           1       0.87      0.85      0.86      5044\n",
      "\n",
      "    accuracy                           0.86     10000\n",
      "   macro avg       0.86      0.86      0.86     10000\n",
      "weighted avg       0.86      0.86      0.86     10000\n",
      "\n"
     ]
    }
   ],
   "source": [
    "from sklearn.metrics import classification_report\n",
    "print(classification_report(y_pred,y_test))"
   ]
  },
  {
   "cell_type": "code",
   "execution_count": 290,
   "id": "8b251230",
   "metadata": {},
   "outputs": [
    {
     "data": {
      "text/plain": [
       "array([[4291,  744],\n",
       "       [ 665, 4300]], dtype=int64)"
      ]
     },
     "execution_count": 290,
     "metadata": {},
     "output_type": "execute_result"
    }
   ],
   "source": [
    "confusion_matrix(y_test, y_pred)"
   ]
  }
 ],
 "metadata": {
  "kernelspec": {
   "display_name": "Python 3 (ipykernel)",
   "language": "python",
   "name": "python3"
  },
  "language_info": {
   "codemirror_mode": {
    "name": "ipython",
    "version": 3
   },
   "file_extension": ".py",
   "mimetype": "text/x-python",
   "name": "python",
   "nbconvert_exporter": "python",
   "pygments_lexer": "ipython3",
   "version": "3.9.12"
  }
 },
 "nbformat": 4,
 "nbformat_minor": 5
}
